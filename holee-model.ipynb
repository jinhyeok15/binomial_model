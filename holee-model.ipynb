{
 "cells": [
  {
   "cell_type": "markdown",
   "id": "e9f5337a",
   "metadata": {},
   "source": [
    "# Ho-Lee model"
   ]
  },
  {
   "cell_type": "code",
   "execution_count": 1,
   "id": "08f4aa09",
   "metadata": {},
   "outputs": [
    {
     "name": "stdout",
     "output_type": "stream",
     "text": [
      "Yield: [0.0174, 0.0213, 0.0262]\n",
      "Forward Rate: [0.0174, 0.0252, 0.0359]\n",
      "\n",
      "   Maturity    Price   Yield  Forward Rate\n",
      "0       0.5  99.1338  0.0174        0.0174\n",
      "1       1.0  97.8925  0.0213        0.0252\n",
      "2       1.5  96.1531  0.0262        0.0359\n"
     ]
    }
   ],
   "source": [
    "from zero import zeros, forward_rate\n",
    "import pandas as pd\n",
    "\n",
    "_bond_data = [\n",
    "    [100, 0.50, 0, 99.1338],\n",
    "    [100, 1.00, 0, 97.8925],\n",
    "    [100, 1.50, 0, 96.1531]\n",
    "]\n",
    "\n",
    "# calculate zero coupon bond's yield\n",
    "_yield = list(map(lambda x: round(x, 4), zeros(_bond_data)))\n",
    "print(\"Yield: \" + str(_yield))\n",
    "# calculate forward rate\n",
    "_forward = list(map(lambda x: round(x, 4), forward_rate(_bond_data, 0.5)))\n",
    "print(\"Forward Rate: \" + str(_forward))\n",
    "print()\n",
    "\n",
    "_market_data = pd.DataFrame(\n",
    "    {\n",
    "        \"Maturity\": [0.5, 1.0, 1.5],\n",
    "        \"Price\": [99.1338, 97.8925, 96.1531],\n",
    "        \"Yield\": _yield,\n",
    "        \"Forward Rate\": _forward\n",
    "    }\n",
    ")\n",
    "\n",
    "mp0 = _market_data.Price[0]\n",
    "mp1 = _market_data.Price[1]\n",
    "mp2 = _market_data.Price[2]\n",
    "\n",
    "print(_market_data)"
   ]
  },
  {
   "cell_type": "code",
   "execution_count": 2,
   "id": "45dab256",
   "metadata": {},
   "outputs": [
    {
     "name": "stdout",
     "output_type": "stream",
     "text": [
      "Interest rate going up: 3.46%\n",
      "Interest rate going down: 1.02%\n",
      "Interest rate model:\n",
      "[[0.0174], [0.0346, 0.0102]]\n"
     ]
    }
   ],
   "source": [
    "import binomial as bi\n",
    "from price import round_model\n",
    "\n",
    "r00 = 0.0174\n",
    "theta0 = 0.01\n",
    "theta1 = 0.00\n",
    "delta = 0.5\n",
    "vol = 0.0173\n",
    "\n",
    "r10 = r00 + theta0*delta + vol*delta**0.5\n",
    "r11 = r00 + theta0*delta - vol*delta**0.5\n",
    "\n",
    "print(\"Interest rate going up: \" + str(round(r10*100, 2)) + '%')\n",
    "print(\"Interest rate going down: \" + str(round(r11*100, 2)) + '%')\n",
    "\n",
    "irm = bi.model([[r00], [r10, r11]])\n",
    "round_model(irm, 4)\n",
    "print(\"Interest rate model:\")\n",
    "print(irm.data)"
   ]
  },
  {
   "cell_type": "code",
   "execution_count": 3,
   "id": "0e40d436",
   "metadata": {},
   "outputs": [
    {
     "name": "stdout",
     "output_type": "stream",
     "text": [
      "Bond price model:\n",
      "[[98.0315], [98.2849, 99.4913], [100, 100, 100, 100]]\n"
     ]
    }
   ],
   "source": [
    "from price import bond_model\n",
    "\n",
    "bpm = round_model(bond_model(100, irm, [0.5], 0.5), 4)\n",
    "print(\"Bond price model:\")\n",
    "print(bpm.data)"
   ]
  },
  {
   "cell_type": "code",
   "execution_count": 4,
   "id": "b7b5b018",
   "metadata": {},
   "outputs": [
    {
     "name": "stdout",
     "output_type": "stream",
     "text": [
      "Get result: [0.01567581]\n",
      "theta0: 1.5676%\n",
      "\n",
      "Interest rate model:\n",
      "[[0.0174], [0.037470854672668315, 0.013004960043613768]]\n",
      "\n",
      "Bond price model:\n",
      "[[97.89250000000004], [98.14389898238744, 99.35186153525606], [100, 100, 100, 100]]\n"
     ]
    }
   ],
   "source": [
    "from scipy.optimize import fsolve\n",
    "\n",
    "ir_by_ho_lee = lambda ir, theta, vol, delta: [ir+theta*delta + vol*delta**0.5, ir+theta*delta - vol*delta**0.5]\n",
    "get_irm = lambda th: bi.model([[r00], ir_by_ho_lee(r00, th, vol, delta)])\n",
    "get_bpm = lambda th: bond_model(100, get_irm(th), [0.5], 0.5)\n",
    "price_error = lambda th: (get_bpm(th).value(0, 0)-mp1)**2\n",
    "\n",
    "_result = fsolve(price_error, theta0)\n",
    "print(\"Get result: \" + str(_result))\n",
    "\n",
    "theta0 = _result[0]\n",
    "print(\"theta0: \" + str(round(theta0*100, 4)) + '%')\n",
    "print()\n",
    "\n",
    "irm1 = get_irm(theta0)\n",
    "print(\"Interest rate model:\")\n",
    "print(irm1.data)\n",
    "print()\n",
    "\n",
    "bpm1 = get_bpm(theta0)\n",
    "print(\"Bond price model:\")\n",
    "print(bpm1.data)"
   ]
  },
  {
   "cell_type": "code",
   "execution_count": 5,
   "id": "66f37d6f",
   "metadata": {},
   "outputs": [
    {
     "name": "stdout",
     "output_type": "stream",
     "text": [
      "Get result: [0.02153637]\n",
      "theta1: 2.1536%\n",
      "\n",
      "irm:\n",
      "[[0.0174], [0.0375, 0.013], [0.0605, 0.036, 0.036, 0.0115]]\n",
      "\n",
      "bpm:\n",
      "[[96.1528], [95.8049, 98.1811], [97.0203, 98.2161, 98.2161, 99.4266], [100, 100, 100, 100, 100, 100, 100, 100]]\n"
     ]
    }
   ],
   "source": [
    "def _get_next_irm(__irm, __th, __vol, __delta):\n",
    "    next_irm_data = []\n",
    "    _next_data = []\n",
    "    for i in __irm.data[-1]:\n",
    "        for j in ir_by_ho_lee(i, __th, __vol, __delta):\n",
    "            _next_data.append(j)\n",
    "    for i in __irm.data:\n",
    "        next_irm_data.append(i)\n",
    "    next_irm_data.append(_next_data)\n",
    "    return bi.model(next_irm_data)\n",
    "\n",
    "get_bpm = lambda th: bond_model(100, _get_next_irm(irm1, th, vol, delta), [0.5, 0.5], 0.5)\n",
    "price_error = lambda th: (get_bpm(th).value(0, 0)-mp2)**2\n",
    "\n",
    "_result = fsolve(price_error, theta1)\n",
    "print(\"Get result: \" + str(_result))\n",
    "\n",
    "theta1 = _result[0]\n",
    "print(\"theta1: \" + str(round(theta1*100, 4)) + '%')\n",
    "print()\n",
    "\n",
    "irm2 = round_model(_get_next_irm(irm1, theta1, vol, delta), 4)\n",
    "print(\"irm:\")\n",
    "print(irm2.data)\n",
    "print()\n",
    "\n",
    "bpm2 = round_model(bond_model(100, irm2, [0.5, 0.5], 0.5),4)\n",
    "print(\"bpm:\")\n",
    "print(bpm2.data)"
   ]
  },
  {
   "cell_type": "code",
   "execution_count": null,
   "id": "1dde8fcc",
   "metadata": {},
   "outputs": [],
   "source": []
  }
 ],
 "metadata": {
  "kernelspec": {
   "display_name": "Python 3",
   "language": "python",
   "name": "python3"
  },
  "language_info": {
   "codemirror_mode": {
    "name": "ipython",
    "version": 3
   },
   "file_extension": ".py",
   "mimetype": "text/x-python",
   "name": "python",
   "nbconvert_exporter": "python",
   "pygments_lexer": "ipython3",
   "version": "3.8.8"
  }
 },
 "nbformat": 4,
 "nbformat_minor": 5
}