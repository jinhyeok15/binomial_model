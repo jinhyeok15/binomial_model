{
 "cells": [
  {
   "cell_type": "code",
   "execution_count": 1,
   "id": "ea8a83b3",
   "metadata": {},
   "outputs": [],
   "source": [
    "from price import *\n",
    "import binomial as bi\n",
    "from zero import *\n",
    "import numpy as np\n",
    "import pandas as pd"
   ]
  },
  {
   "cell_type": "code",
   "execution_count": 2,
   "id": "de8027b1",
   "metadata": {},
   "outputs": [],
   "source": [
    "def beautify(__model, __round=4):\n",
    "    string = \"| \"\n",
    "    layer = 0\n",
    "    indent = 2\n",
    "    size = __model.size\n",
    "    value_list = []\n",
    "    \n",
    "    cnt = 1\n",
    "    for li in __model.as_list():\n",
    "        append_list = [li[0]]\n",
    "        i=1\n",
    "        while i<len(li):\n",
    "            if li[i]!=li[i-1]:\n",
    "                append_list.append(li[i])\n",
    "            i+=1\n",
    "        while len(append_list) < cnt:\n",
    "            append_list.append(append_list[0])\n",
    "        cnt+=1\n",
    "        value_list.append(append_list)\n",
    "    \n",
    "    while layer < size:\n",
    "        step = layer\n",
    "        while step < size:\n",
    "            value = str(round(value_list[step][layer], 4))\n",
    "            string+=value\n",
    "            string+=\" | \"\n",
    "            step += 1\n",
    "        indent += len(str(round(value_list[layer][layer], 4)))\n",
    "        if layer < size-1:\n",
    "            string += \"\\n\"+(\" \"*indent)+\" | \"\n",
    "        layer += 1\n",
    "    return string"
   ]
  },
  {
   "cell_type": "code",
   "execution_count": 3,
   "id": "0340d649",
   "metadata": {},
   "outputs": [
    {
     "name": "stdout",
     "output_type": "stream",
     "text": [
      "[[100, 1.0, 0, 99.8801], [100, 2.0, 0, 99.5908], [100, 3.0, 0, 99.3024]]\n",
      "[0.0012, 0.0029, 0.0029]\n"
     ]
    }
   ],
   "source": [
    "# Daily Treasury Yield Curve Rate in 02/15/19\n",
    "r1 = 0.0012\n",
    "r2 = 0.0041\n",
    "r3 = 0.0070\n",
    "\n",
    "mp1 = round(100*np.exp(-r1*1.0), 4)\n",
    "mp2 = round(100*np.exp(-r2*1.0), 4)\n",
    "mp3 = round(100*np.exp(-r3*1.0), 4)\n",
    "data = [\n",
    "    [100, 1.00, 0, mp1],\n",
    "    [100, 2.00, 0, mp2],\n",
    "    [100, 3.00, 0, mp3]\n",
    "]\n",
    "print(data)\n",
    "fr = list(map(lambda x: round(x, 4), forward_rate(data, 1.0)))\n",
    "print(fr)"
   ]
  },
  {
   "cell_type": "code",
   "execution_count": 4,
   "id": "9ce75c13",
   "metadata": {},
   "outputs": [
    {
     "name": "stdout",
     "output_type": "stream",
     "text": [
      "   Maturity    Price   Yield  ForwardRate\n",
      "0       1.0  99.8801  0.0012       0.0012\n",
      "1       2.0  99.5908  0.0041       0.0029\n",
      "2       3.0  99.3024  0.0070       0.0029\n"
     ]
    }
   ],
   "source": [
    "market_data = pd.DataFrame({\n",
    "    \"Maturity\": [1.0, 2.0, 3.0],\n",
    "    \"Price\": [mp1, mp2, mp3],\n",
    "    \"Yield\": [r1, r2, r3],\n",
    "    \"ForwardRate\": fr\n",
    "})\n",
    "\n",
    "print(market_data)"
   ]
  },
  {
   "cell_type": "code",
   "execution_count": 5,
   "id": "cbe71ae2",
   "metadata": {},
   "outputs": [
    {
     "name": "stdout",
     "output_type": "stream",
     "text": [
      "volatility in 2yr maturity: 0.034872895307967944\n",
      "volatility in 3yr maturity: 0.06985119987127486\n"
     ]
    }
   ],
   "source": [
    "# calculate volatility\n",
    "# Link: https://financetrain.com/how-to-calculate-interest-rate-volatility\n",
    "# Yield data from 10/01/21 to 10/15/21\n",
    "import math\n",
    "yield_data = pd.DataFrame(\n",
    "    {\n",
    "        \"1yr\": [0.09, 0.09, 0.09, 0.10, 0.10, 0.09, 0.10, 0.11, 0.10, 0.12],\n",
    "        \"2yr\": [0.27, 0.27, 0.28, 0.30, 0.32, 0.32, 0.35, 0.37, 0.36, 0.41],\n",
    "        \"3yr\": [0.49, 0.52, 0.54, 0.55, 0.57, 0.59, 0.64, 0.66, 0.62, 0.70]\n",
    "    }\n",
    ")\n",
    "\n",
    "def get_vol(m):\n",
    "    Xt = []\n",
    "    sum_x = 0\n",
    "    i = 0\n",
    "    n = len(yield_data[m])\n",
    "    while i < len(yield_data[m]):\n",
    "        value = yield_data[m][i]\n",
    "        sum_x += value\n",
    "        Xt.append(value)\n",
    "        i += 1\n",
    "    avg = sum_x/n\n",
    "    var = 0\n",
    "    for x in Xt:\n",
    "        var += ((x-avg)**2)/(n-1)\n",
    "    return var*math.sqrt(250)\n",
    "\n",
    "vol2 = get_vol(\"2yr\")\n",
    "print(\"volatility in 2yr maturity: \"+str(vol2))\n",
    "vol3 = get_vol(\"3yr\")\n",
    "print(\"volatility in 3yr maturity: \"+str(vol3))"
   ]
  },
  {
   "cell_type": "code",
   "execution_count": 6,
   "id": "b74e8461",
   "metadata": {},
   "outputs": [
    {
     "name": "stdout",
     "output_type": "stream",
     "text": [
      "Get result: [0.00230833]\n",
      "theta1 is 0.002308331349889756\n",
      "1step ir [0.0383812266578577, -0.031364563958078184]\n",
      "| 0.0012 | 0.0384 | \n",
      "         | -0.0314 | \n",
      "\n",
      "| 99.5908 | 96.2346 | 100 | \n",
      "          | 103.1862 | 100 | \n",
      "                  | 100 | \n"
     ]
    }
   ],
   "source": [
    "from scipy.optimize import fsolve\n",
    "\n",
    "vol = vol2\n",
    "step1 = lambda t: [r1+t*1.0+vol*1.0**0.5, r1+t*1.0-vol*1.0**0.5]\n",
    "get_irm = lambda t: bi.model([[r1], step1(t)])\n",
    "get_bpm = lambda t: bond_model(100, get_irm(t), [0.5], 1.0)\n",
    "price_error = lambda t: (get_bpm(t).value(0, 0)-mp2)**2\n",
    "\n",
    "result = fsolve(price_error, 0.00)\n",
    "print(\"Get result: \" + str(result))\n",
    "theta1 = result[0]\n",
    "print(\"theta1 is \" + str(theta1))\n",
    "print(\"1step ir \"+str(step1(theta1)))\n",
    "irm = get_irm(theta1)\n",
    "bpm = get_bpm(theta1)\n",
    "print(beautify(irm, 4))\n",
    "print()\n",
    "print(beautify(bpm, 4))"
   ]
  },
  {
   "cell_type": "code",
   "execution_count": 7,
   "id": "3c32a4ac",
   "metadata": {},
   "outputs": [
    {
     "name": "stdout",
     "output_type": "stream",
     "text": [
      "theta2 is 0.0251343929445535\n",
      "2step ir [0.13336681947368606, -0.006335580268863661, -0.07608137088479955]\n",
      "| 0.0012 | 0.0734 | 0.1334 | \n",
      "         | -0.0663 | -0.0063 | \n",
      "                | -0.0761 | \n",
      "\n",
      "| 99.3024 | 87.4207 | 87.5144 | 100 | \n",
      "          | 111.4225 | 100.6356 | 100 | \n",
      "                  | 107.905 | 100 | \n",
      "                         | 100 | \n"
     ]
    }
   ],
   "source": [
    "vol = vol3\n",
    "r10 = irm.value(1, 0)\n",
    "r11 = irm.value(1, 1)\n",
    "step2 = lambda t: [r10+t*1.0+vol*1.0**0.5, r10+t*1.0-vol*1.0**0.5, r11+t*1.0-vol*1.0**0.5]\n",
    "get_irm = lambda t: bi.model([[r1], step1(theta1), step2(t)], simplify=True)\n",
    "get_bpm = lambda t: bond_model(100, get_irm(t), [0.5, 0.5], 1.0)\n",
    "price_error = lambda t: (get_bpm(t).value(0, 0)-mp3)**2\n",
    "\n",
    "result = fsolve(price_error, 0.00)\n",
    "theta2 = result[0]\n",
    "print(\"theta2 is \" + str(theta2))\n",
    "print(\"2step ir \"+str(step2(theta2)))\n",
    "irm = get_irm(theta2)\n",
    "bpm = get_bpm(theta2)\n",
    "print(beautify(irm, 4))\n",
    "print()\n",
    "print(beautify(bpm, 4))"
   ]
  },
  {
   "cell_type": "code",
   "execution_count": 8,
   "id": "6a262d3b",
   "metadata": {},
   "outputs": [
    {
     "name": "stdout",
     "output_type": "stream",
     "text": [
      "volatility in 2yr maturity: 0.03881996483241765\n",
      "volatility in 3yr maturity: 0.03917919844393071\n"
     ]
    }
   ],
   "source": [
    "# get log volatility\n",
    "def get_log_vol(m):\n",
    "    Xt = []\n",
    "    sum_x = 0\n",
    "    i = 1\n",
    "    n = len(yield_data[m])-1\n",
    "    while i < len(yield_data[m]):\n",
    "        value = np.log(yield_data[m][i]/yield_data[m][i-1])\n",
    "        sum_x += value\n",
    "        Xt.append(value)\n",
    "        i += 1\n",
    "    avg = sum_x/n\n",
    "    var = 0\n",
    "    for x in Xt:\n",
    "        var += ((x-avg)**2)/(n-1)\n",
    "    return var*math.sqrt(250)\n",
    "vol2 = get_log_vol(\"2yr\")\n",
    "print(\"volatility in 2yr maturity: \"+str(vol2))\n",
    "vol3 = get_log_vol(\"3yr\")\n",
    "print(\"volatility in 3yr maturity: \"+str(vol3))"
   ]
  },
  {
   "cell_type": "code",
   "execution_count": 9,
   "id": "e46817a2",
   "metadata": {},
   "outputs": [
    {
     "name": "stdout",
     "output_type": "stream",
     "text": [
      "Get result:       fun: 1.5227253358298786e-10\n",
      " hess_inv: array([[6.27113687]])\n",
      "      jac: array([7.13033848e-06])\n",
      "  message: 'Optimization terminated successfully.'\n",
      "     nfev: 14\n",
      "      nit: 3\n",
      "     njev: 7\n",
      "   status: 0\n",
      "  success: True\n",
      "        x: array([0.88181702])\n",
      "theta1 is 0.8818170237808484\n",
      "| 0.0012 | 0.003 | \n",
      "         | 0.0028 | \n",
      "| 99.5908 | 99.6991 | 100 | \n",
      "          | 99.7216 | 100 | \n",
      "                 | 100 | \n"
     ]
    }
   ],
   "source": [
    "from scipy.optimize import minimize\n",
    "vol = vol2\n",
    "def get_pe1(t):\n",
    "    step1 = [np.log(r1)+t*1.0+vol*1.0**0.5, np.log(r1)+t*1.0-vol*1.0**0.5]\n",
    "    step1 = [np.exp(i) for i in step1]\n",
    "    irm = bi.model([[r1], step1])\n",
    "    bpm = bond_model(100, irm, [0.5], 1.0)\n",
    "    return (bpm.value(0, 0)-mp2)**2\n",
    "\n",
    "result = minimize(get_pe1, 0.00)\n",
    "print(\"Get result: \" + str(result))\n",
    "theta1 = result.x[0]\n",
    "print(\"theta1 is \" + str(theta1))\n",
    "s1 = [np.log(r1)+theta1*1.0+vol*1.0**0.5, np.log(r1)+theta1*1.0-vol*1.0**0.5]\n",
    "s1 = [np.exp(i) for i in s1]\n",
    "irm = bi.model([[r1], s1])\n",
    "bpm = bond_model(100, irm, [0.5], 1.0)\n",
    "print(beautify(irm, 4))\n",
    "print(beautify(bpm, 4))"
   ]
  },
  {
   "cell_type": "code",
   "execution_count": 10,
   "id": "522d02cb",
   "metadata": {},
   "outputs": [
    {
     "name": "stdout",
     "output_type": "stream",
     "text": [
      "theta2 is -0.0007851223428195755\n",
      "2step ir [0.0031310005609627286, 0.0028950263839792314, 0.0026787607877497436]\n",
      "| 0.0012 | 0.003 | 0.0031 | \n",
      "         | 0.0028 | 0.0029 | \n",
      "               | 0.0027 | \n",
      "| 99.3024 | 99.3992 | 99.6874 | 100 | \n",
      "          | 99.4441 | 99.7109 | 100 | \n",
      "                 | 99.7325 | 100 | \n",
      "                        | 100 | \n"
     ]
    }
   ],
   "source": [
    "r10 = irm.value(1, 0)\n",
    "r11 = irm.value(1, 1)\n",
    "vol = vol3\n",
    "step2 = lambda t: [np.exp(np.log(r10)+t*1.0+vol*1.0**0.5), np.exp(np.log(r10)+t*1.0-vol*1.0**0.5), np.exp(np.log(r11)+t*1.0-vol*1.0**0.5)]\n",
    "get_irm = lambda t: bi.model([[r1], s1, step2(t)], simplify=True)\n",
    "get_bpm = lambda t: bond_model(100, get_irm(t), [0.5, 0.5], 1.0)\n",
    "price_error = lambda t: (get_bpm(t).value(0, 0)-mp3)**2\n",
    "\n",
    "result = minimize(price_error, 0.00)\n",
    "theta2 = result.x[0]\n",
    "print(\"theta2 is \"+str(theta2))\n",
    "print(\"2step ir \"+str(step2(theta2)))\n",
    "irm = get_irm(theta2)\n",
    "bpm = get_bpm(theta2)\n",
    "print(beautify(irm, 4))\n",
    "print(beautify(bpm, 4))"
   ]
  },
  {
   "cell_type": "markdown",
   "id": "491e7b1c",
   "metadata": {},
   "source": [
    "$$ Forward Rate = [(1 + S_1)^n_1/(1 + S_2)^n_2]^1/(n_1-n_2)-1 $$"
   ]
  },
  {
   "cell_type": "markdown",
   "id": "f90ab59c",
   "metadata": {},
   "source": [
    "$$Daily Volatility = \\sum[(s_2/s_1-1)-avg]^2$$"
   ]
  },
  {
   "cell_type": "markdown",
   "id": "11f54c9e",
   "metadata": {},
   "source": [
    "$$AnnualVolatility = DailyVolatility\\sqrt{252}$$"
   ]
  },
  {
   "cell_type": "markdown",
   "id": "d411ff18",
   "metadata": {},
   "source": [
    "$$ r_1,_0 = 0.12\\% + \\theta_0 \\times \\delta + \\sigma(\\delta)^2$$\n",
    "$$ r_1,_1 = 0.12\\% + \\theta_0 \\times \\delta - \\sigma(\\delta)^2$$\n"
   ]
  },
  {
   "cell_type": "markdown",
   "id": "a1209041",
   "metadata": {},
   "source": [
    "$$ 99.5908 = e^{-r_0\\times\\delta} \\times(0.5 \\times e^{-r_{1,1}}\\times\\delta)\\times100$$"
   ]
  },
  {
   "cell_type": "markdown",
   "id": "8fc98674",
   "metadata": {},
   "source": [
    "$$AnnualVolatility = \\sum[ln(s_2/s_1)-avg]^2\\sqrt{252}$$"
   ]
  },
  {
   "cell_type": "markdown",
   "id": "32d983e3",
   "metadata": {},
   "source": [
    "$$ r_1,_0 = exp(ln(0.12)\\% + \\theta_0 \\times \\delta + \\sigma(\\delta)^2)$$\n",
    "$$ r_1,_1 = exp(ln(0.12)\\% + \\theta_0 \\times \\delta - \\sigma(\\delta)^2)$$"
   ]
  }
 ],
 "metadata": {
  "kernelspec": {
   "display_name": "Python 3",
   "language": "python",
   "name": "python3"
  },
  "language_info": {
   "codemirror_mode": {
    "name": "ipython",
    "version": 3
   },
   "file_extension": ".py",
   "mimetype": "text/x-python",
   "name": "python",
   "nbconvert_exporter": "python",
   "pygments_lexer": "ipython3",
   "version": "3.8.8"
  }
 },
 "nbformat": 4,
 "nbformat_minor": 5
}
