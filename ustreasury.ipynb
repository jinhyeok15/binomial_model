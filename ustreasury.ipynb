{
 "cells": [
  {
   "cell_type": "code",
   "execution_count": 7,
   "id": "ea8a83b3",
   "metadata": {},
   "outputs": [],
   "source": [
    "from price import *\n",
    "import binomial as bi\n",
    "from zero import *\n",
    "import numpy as np\n",
    "import pandas as pd"
   ]
  },
  {
   "cell_type": "code",
   "execution_count": 12,
   "id": "0340d649",
   "metadata": {},
   "outputs": [
    {
     "name": "stdout",
     "output_type": "stream",
     "text": [
      "[[100, 1.0, 0, 97.4822], [100, 2.0, 0, 97.5115], [100, 3.0, 0, 97.531]]\n",
      "[0.0255, -0.0003, -0.0002]\n"
     ]
    }
   ],
   "source": [
    "# Daily Treasury Yield Curve Rate in 02/15/19\n",
    "r1 = 0.0255\n",
    "r2 = 0.0252\n",
    "r3 = 0.0250\n",
    "\n",
    "mp1 = round(100*np.exp(-r1*1.0), 4)\n",
    "mp2 = round(100*np.exp(-r2*1.0), 4)\n",
    "mp3 = round(100*np.exp(-r3*1.0), 4)\n",
    "data = [\n",
    "    [100, 1.00, 0, mp1],\n",
    "    [100, 2.00, 0, mp2],\n",
    "    [100, 3.00, 0, mp3]\n",
    "]\n",
    "print(data)\n",
    "fr = list(map(lambda x: round(x, 4), forward_rate(data, 1.0)))\n",
    "print(fr)"
   ]
  },
  {
   "cell_type": "code",
   "execution_count": 13,
   "id": "9ce75c13",
   "metadata": {},
   "outputs": [
    {
     "name": "stdout",
     "output_type": "stream",
     "text": [
      "   Maturity    Price   Yield  ForwardRate\n",
      "0       1.0  97.4822  0.0255       0.0255\n",
      "1       2.0  97.5115  0.0252      -0.0003\n",
      "2       3.0  97.5310  0.0250      -0.0002\n"
     ]
    }
   ],
   "source": [
    "market_data = pd.DataFrame({\n",
    "    \"Maturity\": [1.0, 2.0, 3.0],\n",
    "    \"Price\": [mp1, mp2, mp3],\n",
    "    \"Yield\": [r1, r2, r3],\n",
    "    \"ForwardRate\": fr\n",
    "})\n",
    "\n",
    "print(market_data)"
   ]
  },
  {
   "cell_type": "code",
   "execution_count": null,
   "id": "cbe71ae2",
   "metadata": {},
   "outputs": [],
   "source": [
    "# calculate volatility\n",
    "YCR = r1/0.0253\n",
    "X = np.log(YCR)\n"
   ]
  }
 ],
 "metadata": {
  "kernelspec": {
   "display_name": "Python 3",
   "language": "python",
   "name": "python3"
  },
  "language_info": {
   "codemirror_mode": {
    "name": "ipython",
    "version": 3
   },
   "file_extension": ".py",
   "mimetype": "text/x-python",
   "name": "python",
   "nbconvert_exporter": "python",
   "pygments_lexer": "ipython3",
   "version": "3.8.8"
  }
 },
 "nbformat": 4,
 "nbformat_minor": 5
}
