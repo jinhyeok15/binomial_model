{
 "cells": [
  {
   "cell_type": "markdown",
   "id": "e9f5337a",
   "metadata": {},
   "source": [
    "# Ho-Lee model"
   ]
  },
  {
   "cell_type": "markdown",
   "id": "0414182f",
   "metadata": {},
   "source": [
    "> Get data from term-structure"
   ]
  },
  {
   "cell_type": "code",
   "execution_count": 1,
   "id": "08f4aa09",
   "metadata": {},
   "outputs": [
    {
     "name": "stdout",
     "output_type": "stream",
     "text": [
      "Yield: [0.0174, 0.0213, 0.0262]\n",
      "Forward Rate: [0.0174, 0.0252, 0.0359]\n",
      "\n",
      "   Maturity    Price   Yield  Forward Rate\n",
      "0       0.5  99.1338  0.0174        0.0174\n",
      "1       1.0  97.8925  0.0213        0.0252\n",
      "2       1.5  96.1531  0.0262        0.0359\n"
     ]
    }
   ],
   "source": [
    "from zero import zeros, forward_rate\n",
    "import pandas as pd\n",
    "\n",
    "_bond_data = [\n",
    "    [100, 0.50, 0, 99.1338],\n",
    "    [100, 1.00, 0, 97.8925],\n",
    "    [100, 1.50, 0, 96.1531]\n",
    "]\n",
    "\n",
    "# calculate zero coupon bond's yield\n",
    "_yield = list(map(lambda x: round(x, 4), zeros(_bond_data)))\n",
    "print(\"Yield: \" + str(_yield))\n",
    "# calculate forward rate\n",
    "_forward = list(map(lambda x: round(x, 4), forward_rate(_bond_data, 0.5)))\n",
    "print(\"Forward Rate: \" + str(_forward))\n",
    "print()\n",
    "\n",
    "_market_data = pd.DataFrame(\n",
    "    {\n",
    "        \"Maturity\": [0.5, 1.0, 1.5],\n",
    "        \"Price\": [99.1338, 97.8925, 96.1531],\n",
    "        \"Yield\": _yield,\n",
    "        \"Forward Rate\": _forward\n",
    "    }\n",
    ")\n",
    "\n",
    "mp0 = _market_data.Price[0]\n",
    "mp1 = _market_data.Price[1]\n",
    "mp2 = _market_data.Price[2]\n",
    "\n",
    "print(_market_data)"
   ]
  },
  {
   "cell_type": "markdown",
   "id": "d952117a",
   "metadata": {},
   "source": [
    "> Get irm when theta0 = 0.01"
   ]
  },
  {
   "cell_type": "code",
   "execution_count": 2,
   "id": "45dab256",
   "metadata": {},
   "outputs": [
    {
     "name": "stdout",
     "output_type": "stream",
     "text": [
      "Interest rate going up: 3.46%\n",
      "Interest rate going down: 1.02%\n",
      "Interest rate model:\n",
      "| 0.0174 | 0.0346 | \n",
      "         | 0.0102 | \n"
     ]
    }
   ],
   "source": [
    "import binomial as bi\n",
    "from price import round_model\n",
    "\n",
    "r00 = 0.0174\n",
    "theta0 = 0.01\n",
    "theta1 = 0.00\n",
    "delta = 0.5\n",
    "vol = 0.0173\n",
    "\n",
    "r10 = r00 + theta0*delta + vol*delta**0.5\n",
    "r11 = r00 + theta0*delta - vol*delta**0.5\n",
    "\n",
    "print(\"Interest rate going up: \" + str(round(r10*100, 2)) + '%')\n",
    "print(\"Interest rate going down: \" + str(round(r11*100, 2)) + '%')\n",
    "\n",
    "irm = bi.model([[r00], [r10, r11]])\n",
    "round_model(irm, 4)\n",
    "print(\"Interest rate model:\")\n",
    "print(irm.beautify())"
   ]
  },
  {
   "cell_type": "markdown",
   "id": "9b3e97a8",
   "metadata": {},
   "source": [
    "> Get bond-price model by interest rate model with theta=0.01"
   ]
  },
  {
   "cell_type": "code",
   "execution_count": 3,
   "id": "0e40d436",
   "metadata": {},
   "outputs": [
    {
     "name": "stdout",
     "output_type": "stream",
     "text": [
      "Bond price model:\n",
      "| 98.0315 | 98.2849 | 100 | \n",
      "          | 99.4913 | 100 | \n",
      "                 | 100 | \n"
     ]
    }
   ],
   "source": [
    "from price import bond_model\n",
    "\n",
    "bpm = round_model(bond_model(100, irm, [0.5], 0.5), 4)\n",
    "print(\"Bond price model:\")\n",
    "print(bpm.beautify())"
   ]
  },
  {
   "cell_type": "markdown",
   "id": "e1debd2e",
   "metadata": {},
   "source": [
    "> Calibrate theta"
   ]
  },
  {
   "cell_type": "code",
   "execution_count": 4,
   "id": "b7b5b018",
   "metadata": {},
   "outputs": [
    {
     "name": "stdout",
     "output_type": "stream",
     "text": [
      "Get result: [0.01567581]\n",
      "theta0: 1.5676%\n",
      "\n",
      "Interest rate model:\n",
      "| 0.0174 | 0.0375 | \n",
      "         | 0.013 | \n",
      "\n",
      "Bond price model:\n",
      "| 97.8925 | 98.1439 | 100 | \n",
      "          | 99.3519 | 100 | \n",
      "                 | 100 | \n"
     ]
    }
   ],
   "source": [
    "from scipy.optimize import fsolve\n",
    "\n",
    "ir_by_ho_lee = lambda ir, theta, vol, delta: [ir+theta*delta + vol*delta**0.5, ir+theta*delta - vol*delta**0.5]\n",
    "get_irm = lambda th: bi.model([[r00], ir_by_ho_lee(r00, th, vol, delta)])\n",
    "get_bpm = lambda th: bond_model(100, get_irm(th), [0.5], 0.5)\n",
    "price_error = lambda th: (get_bpm(th).value(0, 0)-mp1)**2\n",
    "\n",
    "_result = fsolve(price_error, theta0)\n",
    "print(\"Get result: \" + str(_result))\n",
    "\n",
    "theta0 = _result[0]\n",
    "print(\"theta0: \" + str(round(theta0*100, 4)) + '%')\n",
    "print()\n",
    "\n",
    "irm1 = get_irm(theta0).change_model(round, 4)\n",
    "print(\"Interest rate model:\")\n",
    "print(irm1.beautify())\n",
    "print()\n",
    "\n",
    "bpm1 = get_bpm(theta0).change_model(round, 4)\n",
    "print(\"Bond price model:\")\n",
    "print(bpm1.beautify())"
   ]
  },
  {
   "cell_type": "markdown",
   "id": "4534ad93",
   "metadata": {},
   "source": [
    "> Increase interest rate tree model"
   ]
  },
  {
   "cell_type": "code",
   "execution_count": 5,
   "id": "876519b5",
   "metadata": {},
   "outputs": [
    {
     "name": "stdout",
     "output_type": "stream",
     "text": [
      "Get result: [0.02148883]\n",
      "theta1: 2.1489%\n",
      "\n",
      "irm:\n",
      "| 0.0174 | 0.0375 | 0.0605 | \n",
      "         | 0.013 | 0.036 | \n",
      "              | 0.0115 | \n",
      "\n",
      "bpm:\n",
      "| 96.1528 | 95.8049 | 97.0203 | 100 | \n",
      "          | 98.1811 | 98.2161 | 100 | \n",
      "                 | 99.4266 | 100 | \n",
      "                        | 100 | \n"
     ]
    }
   ],
   "source": [
    "def _get_next_irm(__irm, __th, __vol, __delta):\n",
    "    next_irm_data = []\n",
    "    next_data = []\n",
    "    for i in __irm.data[-1]:\n",
    "        for j in ir_by_ho_lee(i, __th, __vol, __delta):\n",
    "            next_data.append(j)\n",
    "    for i in __irm.data:\n",
    "        next_irm_data.append(i)\n",
    "    next_irm_data.append(next_data)\n",
    "    return bi.model(next_irm_data)\n",
    "\n",
    "get_bpm = lambda irm, th, vol, delta: bond_model(100, _get_next_irm(irm, th, vol, delta), [0.5, 0.5], 0.5)\n",
    "price_error = lambda th: (get_bpm(irm1, th, vol, delta).value(0, 0)-mp2)**2\n",
    "\n",
    "_result = fsolve(price_error, theta1)\n",
    "print(\"Get result: \" + str(_result))\n",
    "\n",
    "theta1 = _result[0]\n",
    "print(\"theta1: \" + str(round(theta1*100, 4)) + '%')\n",
    "print()\n",
    "\n",
    "irm2 = round_model(_get_next_irm(irm1, theta1, vol, delta), 4)\n",
    "print(\"irm:\")\n",
    "print(irm2.beautify())\n",
    "print()\n",
    "\n",
    "bpm2 = round_model(bond_model(100, irm2, [0.5, 0.5], 0.5),4)\n",
    "print(\"bpm:\")\n",
    "print(bpm2.beautify())"
   ]
  },
  {
   "cell_type": "markdown",
   "id": "91a1cbcf",
   "metadata": {},
   "source": [
    "# BDT-model"
   ]
  },
  {
   "cell_type": "markdown",
   "id": "55308f7e",
   "metadata": {},
   "source": [
    "> Use price.ho_lee_irm, the result of ho_lee irm is more simple"
   ]
  },
  {
   "cell_type": "code",
   "execution_count": 6,
   "id": "9cef97e8",
   "metadata": {},
   "outputs": [
    {
     "name": "stdout",
     "output_type": "stream",
     "text": [
      "Solve irm with price.ho_lee_irm:\n",
      "| 0.01 | 0.033 | \n",
      "       | 0.016 | \n"
     ]
    }
   ],
   "source": [
    "from price import ho_lee_irm\n",
    "\n",
    "irm_with_holee = ho_lee_irm(100, 0.01, [98.3], 0.0121, 0.5).change_model(round, 3)\n",
    "\n",
    "print(\"Solve irm with price.ho_lee_irm:\")\n",
    "print(irm_with_holee.beautify())"
   ]
  },
  {
   "cell_type": "markdown",
   "id": "3dceb082",
   "metadata": {},
   "source": [
    "> BDT model"
   ]
  },
  {
   "cell_type": "code",
   "execution_count": 7,
   "id": "7cdf4f68",
   "metadata": {},
   "outputs": [
    {
     "name": "stdout",
     "output_type": "stream",
     "text": [
      "theta0: [0.74063862]\n",
      "\n",
      "BDT interest rate model:\n",
      "| 0.0174 | 0.0255 | \n",
      "         | 0.0249 | \n",
      "\n",
      "BDT bond price model:\n",
      "| 97.8925 | 98.7331 | 100 | \n",
      "          | 98.7627 | 100 | \n",
      "                 | 100 | \n",
      "\n",
      "\n",
      "theta1: [0.7058947]\n",
      "\n",
      "BDT interest rate model:\n",
      "| 0.0174 | 0.0255 | 0.0367 | \n",
      "         | 0.0249 | 0.0359 | \n",
      "               | 0.035 | \n",
      "\n",
      "BDT bond price model:\n",
      "| 96.1522 | 96.9573 | 98.1817 | 100 | \n",
      "          | 97.0276 | 98.221 | 100 | \n",
      "                 | 98.2652 | 100 | \n",
      "                        | 100 | \n",
      "\n",
      "\n"
     ]
    }
   ],
   "source": [
    "import numpy as np\n",
    "from scipy.optimize import minimize\n",
    "\n",
    "log_vol = 0.2142\n",
    "\n",
    "irm_list = [[r00]]\n",
    "bdt_step = lambda vol, delta: vol*delta**0.5\n",
    "highest_step = lambda ir, th, vol, delta: np.log(ir)+th*delta+bdt_step(vol, delta)\n",
    "\n",
    "def _get_next_irl(__irm_list, __th, __vol, __delta):\n",
    "    _irl = list(map(lambda x: x, __irm_list))\n",
    "    next_data = []\n",
    "    _length = len(_irl[-1])\n",
    "    _first = _irl[-1][0]\n",
    "    s = float(highest_step(_first, __th, __vol, __delta))\n",
    "    next_data.append(np.exp(s))\n",
    "    i = 1\n",
    "    while i < _length+1:\n",
    "        s -= 2*bdt_step(__vol, __delta)\n",
    "        next_data.append(np.exp(s))\n",
    "        i += 1\n",
    "    _irl.append(next_data)\n",
    "    \n",
    "    return _irl\n",
    "\n",
    "cnt = 1\n",
    "for i in [mp1, mp2]:\n",
    "    _rnp = []\n",
    "    for k in range(cnt):\n",
    "        _rnp.append(0.5)\n",
    "    price_error = lambda th: (bond_model(100, bi.model(_get_next_irl(irm_list, th, vol, delta), simplify=True), _rnp, 0.5).value(0, 0)-i)**2\n",
    "    _result = minimize(price_error, 0.01).x\n",
    "    print(f\"theta{cnt-1}: \" + str(_result))\n",
    "    print()\n",
    "    \n",
    "    theta = _result[0]\n",
    "    irm_list = _get_next_irl(irm_list, theta, vol, delta)\n",
    "    bdt_irm = bi.model(irm_list, simplify=True).change_model(round, 4)\n",
    "    print(\"BDT interest rate model:\")\n",
    "    print(bdt_irm.beautify())\n",
    "    print()\n",
    "    \n",
    "    print(\"BDT bond price model:\")\n",
    "    print(bond_model(100, bdt_irm, _rnp, 0.5).change_model(round, 4).beautify())\n",
    "    print(), print()\n",
    "    cnt += 1"
   ]
  },
  {
   "cell_type": "code",
   "execution_count": null,
   "id": "41838a6f",
   "metadata": {},
   "outputs": [],
   "source": []
  },
  {
   "cell_type": "code",
   "execution_count": null,
   "id": "3fe24a88",
   "metadata": {},
   "outputs": [],
   "source": []
  }
 ],
 "metadata": {
  "kernelspec": {
   "display_name": "Python 3",
   "language": "python",
   "name": "python3"
  },
  "language_info": {
   "codemirror_mode": {
    "name": "ipython",
    "version": 3
   },
   "file_extension": ".py",
   "mimetype": "text/x-python",
   "name": "python",
   "nbconvert_exporter": "python",
   "pygments_lexer": "ipython3",
   "version": "3.8.8"
  }
 },
 "nbformat": 4,
 "nbformat_minor": 5
}
