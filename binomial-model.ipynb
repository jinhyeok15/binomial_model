{
 "cells": [
  {
   "cell_type": "markdown",
   "id": "141c33ce",
   "metadata": {},
   "source": [
    "# Binomial Model"
   ]
  },
  {
   "cell_type": "markdown",
   "id": "8443c78f",
   "metadata": {},
   "source": [
    "## DataSet\n",
    "> The data is from market bond price model"
   ]
  },
  {
   "cell_type": "code",
   "execution_count": 1,
   "id": "818fe113",
   "metadata": {},
   "outputs": [
    {
     "name": "stdout",
     "output_type": "stream",
     "text": [
      "Yield: [0.0174, 0.0213, 0.0262]\n",
      "Forward Rate: [0.0174, 0.0252, 0.0359]\n",
      "\n",
      "   Maturity    Price   Yield  Forward Rate\n",
      "0       0.5  99.1338  0.0174        0.0174\n",
      "1       1.0  97.8925  0.0213        0.0252\n",
      "2       1.5  96.1531  0.0262        0.0359\n"
     ]
    }
   ],
   "source": [
    "from zero import zeros, forward_rate\n",
    "import pandas as pd\n",
    "\n",
    "bond_data = [\n",
    "    [100, 0.50, 0, 99.1338],\n",
    "    [100, 1.00, 0, 97.8925],\n",
    "    [100, 1.50, 0, 96.1531]\n",
    "]\n",
    "\n",
    "# calculate zero coupon bond's yield\n",
    "_yield = list(map(lambda x: round(x, 4), zeros(bond_data)))\n",
    "print(\"Yield: \" + str(_yield))\n",
    "# calculate forward rate\n",
    "_forward = list(map(lambda x: round(x, 4), forward_rate(bond_data, 0.5)))\n",
    "print(\"Forward Rate: \" + str(_forward))\n",
    "print()\n",
    "\n",
    "market_data = pd.DataFrame(\n",
    "    {\n",
    "        \"Maturity\": [0.5, 1.0, 1.5],\n",
    "        \"Price\": [99.1338, 97.8925, 96.1531],\n",
    "        \"Yield\": _yield,\n",
    "        \"Forward Rate\": _forward\n",
    "    }\n",
    ")\n",
    "\n",
    "print(market_data)"
   ]
  },
  {
   "cell_type": "markdown",
   "id": "803dc486",
   "metadata": {},
   "source": [
    "## Interest Rate Model\n",
    "> Using binomial model and get one-step and two-step\n"
   ]
  },
  {
   "cell_type": "code",
   "execution_count": 2,
   "id": "06b1ac4e",
   "metadata": {},
   "outputs": [
    {
     "name": "stdout",
     "output_type": "stream",
     "text": [
      "1step: \n",
      "[[[0], 0.0174], [[0, 0], 0.0339], [[0, 1], 0.0095]]\n",
      "\n",
      "2step: \n",
      "[[[0], 0.0174], [[0, 0], 0.0339], [[0, 1], 0.0095], [[0, 0, 0], 0.05], [[0, 0, 1], 0.0256], [[0, 1, 0], 0.0256], [[0, 1, 1], 0.0011]]\n"
     ]
    }
   ],
   "source": [
    "import binomial as bi\n",
    "\n",
    "irm1 = bi.model(\n",
    "    [\n",
    "        0.0174,\n",
    "        [0.0339, 0.0095]\n",
    "    ]\n",
    ")\n",
    "print(\"1step: \")\n",
    "print(str(irm1.tree))\n",
    "print()\n",
    "irm2 = bi.model(\n",
    "    [\n",
    "        0.0174,\n",
    "        [0.0339, 0.0095],\n",
    "        [0.0500, 0.0256, 0.0256, 0.0011]\n",
    "    ]\n",
    ")\n",
    "print(\"2step: \")\n",
    "print(str(irm2.tree))"
   ]
  },
  {
   "cell_type": "markdown",
   "id": "75a76ab4",
   "metadata": {},
   "source": [
    "> Before get Bond Price Model, you should calc RNP from one-step irm"
   ]
  },
  {
   "cell_type": "code",
   "execution_count": 3,
   "id": "7d9ffe37",
   "metadata": {},
   "outputs": [
    {
     "name": "stdout",
     "output_type": "stream",
     "text": [
      "RNP: 0.6448615964742744\n"
     ]
    }
   ],
   "source": [
    "from price import rnp\n",
    "\n",
    "# Get market price at maturity 1 year, 1.5 year\n",
    "mp0 = market_data.Price[0]\n",
    "mp1 = market_data.Price[1]\n",
    "mp2 = market_data.Price[2]\n",
    "\n",
    "RNP = rnp(100, irm1, mp1, 0.5)\n",
    "print(\"RNP: \" + str(RNP))"
   ]
  },
  {
   "cell_type": "markdown",
   "id": "4af5c62a",
   "metadata": {},
   "source": [
    "## Bond Price Model\n",
    "> Draw up bond price model from interest rate model"
   ]
  },
  {
   "cell_type": "code",
   "execution_count": 4,
   "id": "df461a15",
   "metadata": {},
   "outputs": [
    {
     "name": "stdout",
     "output_type": "stream",
     "text": [
      "Bond Price(maturity = 1): \n",
      "[[[0], 97.8925], [[0, 0], 98.3193], [[0, 1], 99.5261], [[0, 0, 0], 100], [[0, 0, 1], 100], [[0, 1, 0], 100], [[0, 1, 1], 100]]\n",
      "\n",
      "Bond Price(maturity = 1.5): \n",
      "[[[0], 96.3137], [[0, 0], 96.3098], [[0, 1], 98.6904], [[0, 0, 0], 97.531], [[0, 0, 1], 98.7282], [[0, 1, 0], 98.7282], [[0, 1, 1], 99.945], [[0, 1, 0, 0], 100], [[0, 1, 0, 1], 100], [[0, 1, 0, 0], 100], [[0, 1, 0, 1], 100], [[0, 1, 1, 0], 100], [[0, 1, 1, 1], 100], [[0, 1, 1, 0], 100], [[0, 1, 1, 1], 100]]\n"
     ]
    }
   ],
   "source": [
    "from price import bond_model, round_model\n",
    "\n",
    "bpm1 = round_model(bond_model(100, irm1, [RNP], 0.5), 4)\n",
    "print(\"Bond Price(maturity = 1): \")\n",
    "print(str(bpm1.tree))\n",
    "print()\n",
    "\n",
    "bpm2 = round_model(bond_model(100, irm2, [RNP, RNP], 0.5), 4)\n",
    "print(\"Bond Price(maturity = 1.5): \")\n",
    "print(str(bpm2.tree))"
   ]
  },
  {
   "cell_type": "markdown",
   "id": "e72fa762",
   "metadata": {},
   "source": [
    "## Replicating Portfolio\n",
    "> Make portfolio that price is same as bond option"
   ]
  },
  {
   "cell_type": "markdown",
   "id": "826d99a2",
   "metadata": {},
   "source": [
    "### Derivative Price"
   ]
  },
  {
   "cell_type": "code",
   "execution_count": 27,
   "id": "6243b146",
   "metadata": {},
   "outputs": [
    {
     "name": "stdout",
     "output_type": "stream",
     "text": [
      "  Scenario 6m  Interest Rate  6m Bond  1yr Bond  Derivative Price\n",
      "0          up         0.0339      100   98.3193              0.00\n",
      "1          dn         0.0095      100   99.5261              1.05\n"
     ]
    }
   ],
   "source": [
    "from price import model_price\n",
    "\n",
    "# Derivative price\n",
    "rk = 0.02\n",
    "r10 = irm1.value(1, 0)\n",
    "r11 = irm1.value(1, 1)\n",
    "p10 = bpm1.value(1, 0)\n",
    "p11 = bpm1.value(1, 1)\n",
    "payoff = lambda x, y: 100*max(x-y, 0)\n",
    "drp_up = round(payoff(rk, r10), 2)\n",
    "drp_dn = round(payoff(rk, r11), 2)\n",
    "\n",
    "derivative_price_data = pd.DataFrame(\n",
    "    {\n",
    "        \"Scenario 6m\": [\"up\", \"dn\"],\n",
    "        \"Interest Rate\": [r10, r11],\n",
    "        \"6m Bond\": [100, 100],\n",
    "        \"1yr Bond\": [p10, p11],\n",
    "        \"Derivative Price\": [drp_up, drp_dn]\n",
    "    }\n",
    ")\n",
    "\n",
    "print(derivative_price_data)"
   ]
  },
  {
   "cell_type": "markdown",
   "id": "f60d537d",
   "metadata": {},
   "source": [
    "### Portfolio Value"
   ]
  },
  {
   "cell_type": "code",
   "execution_count": 28,
   "id": "2309d549",
   "metadata": {},
   "outputs": [
    {
     "name": "stdout",
     "output_type": "stream",
     "text": [
      "  Scenario in 6m  6m Bond return  1yr Bond return Portfolio Value\n",
      "0             up           1.009            1.004   1.009X+1.004Y\n",
      "1             dn           1.009            1.017   1.009X+1.017Y\n"
     ]
    }
   ],
   "source": [
    "# Portfolio value\n",
    "_return = lambda x, y: round(x/y, 3)\n",
    "\n",
    "portfolio_value_data = pd.DataFrame(\n",
    "    {\n",
    "        \"Scenario in 6m\": [\"up\", \"dn\"],\n",
    "        \"6m Bond return\": [_return(100, mp0), _return(100, mp0)],\n",
    "        \"1yr Bond return\": [_return(p10, mp1), _return(p11, mp1)],\n",
    "        \"Portfolio Value\": [f\"{_return(100, mp0)}X+{_return(p10, mp1)}Y\", \n",
    "                           f\"{_return(100, mp0)}X+{_return(p11, mp1)}Y\"]\n",
    "    }\n",
    ")\n",
    "\n",
    "print(portfolio_value_data)"
   ]
  },
  {
   "cell_type": "markdown",
   "id": "ad6ad1cb",
   "metadata": {},
   "source": [
    "> solve X and Y with matrix algebra"
   ]
  },
  {
   "cell_type": "code",
   "execution_count": 31,
   "id": "351eff66",
   "metadata": {},
   "outputs": [
    {
     "name": "stdout",
     "output_type": "stream",
     "text": [
      "[[1.009 1.004]\n",
      " [1.009 1.017]]\n",
      "solution is:\n",
      "[[-80.36898681]\n",
      " [ 80.76923077]]\n",
      "\n",
      "Portfolio Value = 0.4002439582221484\n"
     ]
    }
   ],
   "source": [
    "from price import simultaneous_equation\n",
    "import numpy as np\n",
    "\n",
    "_coef = np.matrix([\n",
    "    [_return(100, mp0), _return(p10, mp1)],\n",
    "    [_return(100, mp0), _return(p11, mp1)]\n",
    "])\n",
    "\n",
    "# Make (1, 2) to (2, 1)\n",
    "_from = derivative_price_data[\"Derivative Price\"]\n",
    "_to = list(map(lambda x: [x], _from))\n",
    "_target = np.matrix(_to)\n",
    "\n",
    "solution = simultaneous_equation(_coef, _target)\n",
    "print(\"solution is:\")\n",
    "print(solution)\n",
    "print()\n",
    "\n",
    "portfolio_value = float(solution[0][0]+solution[1][0])\n",
    "print(\"Portfolio Value = \"+str(portfolio_value))"
   ]
  },
  {
   "cell_type": "markdown",
   "id": "51349e96",
   "metadata": {},
   "source": []
  }
 ],
 "metadata": {
  "kernelspec": {
   "display_name": "Python 3",
   "language": "python",
   "name": "python3"
  },
  "language_info": {
   "codemirror_mode": {
    "name": "ipython",
    "version": 3
   },
   "file_extension": ".py",
   "mimetype": "text/x-python",
   "name": "python",
   "nbconvert_exporter": "python",
   "pygments_lexer": "ipython3",
   "version": "3.8.8"
  }
 },
 "nbformat": 4,
 "nbformat_minor": 5
}
